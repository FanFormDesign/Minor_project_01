{
 "cells": [
  {
   "attachments": {
    "17a84b55-8f9a-4904-96fe-ede51fe753ac.png": {
     "image/png": "[encoded data removed]"
    }
   },
   "cell_type": "markdown",
   "id": "04de9fda-74de-4f51-8bd8-fc73c85aaedb",
   "metadata": {},
   "source": [
    "![image.png](attachment:17a84b55-8f9a-4904-96fe-ede51fe753ac.png)"
   ]
  },
  {
   "cell_type": "markdown",
   "id": "d8e5b98c-c3af-4e6d-8b67-2126fe89a450",
   "metadata": {},
   "source": [
    "# **Steel Beam Design**"
   ]
  },
  {
   "cell_type": "code",
   "execution_count": 31,
   "id": "7f900f85-ab2b-4e86-8b0b-0c7a9772fec0",
   "metadata": {
    "tags": []
   },
   "outputs": [],
   "source": [
    "# Basic imports\n",
    "import forallpeople\n",
    "import handcalcs.render\n",
    "forallpeople.environment('structural',top_level=True)\n",
    "import math \n",
    "from math import sqrt, sin, tan\n",
    "import pandas as pd\n",
    "import pycba as cba  # The main package\n",
    "import numpy as np  # For arrays\n",
    "import matplotlib.pyplot as plt  # For plotting\n",
    "from IPython import display  # For images in this notebook"
   ]
  },
  {
   "cell_type": "code",
   "execution_count": 32,
   "id": "cb6c4951-a432-4606-b2a4-0131707aa919",
   "metadata": {
    "tags": []
   },
   "outputs": [],
   "source": [
    "def CISC_database_reader(filename:str,I_check = 1):\n",
    "    '''\n",
    "    Collects all the available W sections in Canada, stores them in a list and \n",
    "    Returns the list of W sections from CISC databse.\n",
    "    '''\n",
    "    df = pd.read_excel(filename,skipfooter =2)\n",
    "    mask2 = df.loc[:,\"Avl\"]== 'a'                               # This function will only store all the W sections that are readily available in Canada and commonly used\n",
    "    df_sort = df.loc[mask2,[\"Ds_i\",\"Ds_m\",\"D\",\"B\",\"T\",\"W\",\"BT\",\"HW\",\n",
    "                        \"A_Th\",\"Ix\",\"Sx\",\"Zx\",\"Iy\",\n",
    "                       \"Sy\",\"Zy\",\"J\",\"Cw\",\"Mass\"]]\n",
    "    mask3 = df.loc[:,\"Ix\"]>=I_check\n",
    "    df_sort = df.loc[mask3,[\"Ds_i\",\"Ds_m\",\"D\",\"B\",\"T\",\"W\",\"BT\",\"HW\",\n",
    "                        \"A_Th\",\"Ix\",\"Sx\",\"Zx\",\"Iy\",\n",
    "                       \"Sy\",\"Zy\",\"J\",\"Cw\",\"Mass\"]]\n",
    "    df_sort = df_sort.sort_values(\"Mass\")\n",
    "    df_sort\n",
    "    \n",
    "    return df_sort"
   ]
  },
  {
   "cell_type": "code",
   "execution_count": 33,
   "id": "95421dc6-9ab0-4bb5-b554-e71e30c124c3",
   "metadata": {
    "tags": []
   },
   "outputs": [],
   "source": [
    "def Most_economical_section(filename):\n",
    "    '''\n",
    "    Collects all the available W sections in Canada, stores them in a list and \n",
    "    Returns the list of W sections from CISC databse based on Ix value from low to high.\n",
    "    '''\n",
    "    get_section_list = CISC_database_reader(filename, I_check)\n",
    "    Economical_section_list = get_section_list.sort_values(\"Mass\")\n",
    "    return Economical_section_list"
   ]
  },
  {
   "cell_type": "code",
   "execution_count": 34,
   "id": "23127bc2-afdc-4ae6-8573-30bffc19c41b",
   "metadata": {
    "tags": []
   },
   "outputs": [],
   "source": [
    "def List_of_selected_depth(filename,selected_depth = \"W\",Criteria = \"Ix\"):\n",
    "    '''\n",
    "    List all W sections based on specific depth selected and also the sorting of data canbe controlled by using criteria. \n",
    "    If no criteria is selected, it will sort the values based on Ix\n",
    "    '''\n",
    "    df_eco = CISC_database_reader(filename, I_check)\n",
    "    section_list = df_eco[df_eco['Ds_i'].str.startswith(selected_depth)]\n",
    "    section_list = section_list.sort_values(Criteria)\n",
    "    return section_list"
   ]
  },
  {
   "cell_type": "markdown",
   "id": "7c4a2afe-d6b3-4fb0-8e15-3ec4a2d7bd98",
   "metadata": {},
   "source": [
    "## **Input values**"
   ]
  },
  {
   "cell_type": "code",
   "execution_count": 35,
   "id": "e2780264-f08b-47de-a2b2-90a767f3e684",
   "metadata": {},
   "outputs": [
    {
     "data": {
      "text/latex": [
       "\\[\n",
       "\\begin{aligned}\n",
       "\\mathrm{DL} &= 1.190\\ \\mathrm{kPa} \\; \\;\\textrm{(Dead load)}\n",
       " &\\mathrm{LL} &= 1.550\\ \\mathrm{kPa} \\; \\;\\textrm{(Live Load)}\n",
       " &T_{w} &= 7.622\\ \\mathrm{m} \\; \\;\\textrm{(Tributary width)}\n",
       "\\\\[10pt]\n",
       " L_{s} &= 7.927\\ \\mathrm{m} \\; \\;\\textrm{(Span length)}\n",
       " &E &= 200.000\\ \\mathrm{GPa} \\; \\;\\textrm{(Modulus of Elasticity)}\n",
       "\\end{aligned}\n",
       "\\]"
      ],
      "text/plain": [
       "<IPython.core.display.Latex object>"
      ]
     },
     "metadata": {},
     "output_type": "display_data"
    }
   ],
   "source": [
    "%%render params\n",
    "DL = 1.9*kPa                    # Dead load\n",
    "LL = 1.9*kPa                     # Live Load\n",
    "T_w = 25/3.28*m                   # Tributary width \n",
    "L_s = 26/3.28*m                   # Span length \n",
    "E = 200000*MPa                    # Modulus of Elasticity "
   ]
  },
  {
   "cell_type": "markdown",
   "id": "95d982b3-9a20-4fda-a4d3-b866c596b8ac",
   "metadata": {},
   "source": [
    "## **Factored moment calculation**"
   ]
  },
  {
   "cell_type": "code",
   "execution_count": 36,
   "id": "902296aa-bd63-445b-882b-39b7da7b431b",
   "metadata": {},
   "outputs": [
    {
     "data": {
      "text/latex": [
       "\\[\n",
       "\\begin{aligned}\n",
       "w_{f} &= 1.25 \\cdot \\left( \\mathrm{DL} \\cdot T_{w} \\right) + 1.5 \\cdot \\left( \\mathrm{LL} \\cdot T_{w} \\right)  = 1.25 \\cdot \\left( 1.19\\ \\mathrm{kPa} \\cdot 7.62\\ \\mathrm{m} \\right) + 1.5 \\cdot \\left( 1.55\\ \\mathrm{kPa} \\cdot 7.62\\ \\mathrm{m} \\right) &= 29.06\\ \\mathrm{kN/m}  \n",
       "\\\\[10pt]\n",
       "M_{f} &= w_{f} \\cdot \\frac{ \\left( L_{s} \\right) ^{ 2 } }{ 8 }  = 29.06\\ \\mathrm{kN/m} \\cdot \\frac{ \\left( 7.93\\ \\mathrm{m} \\right) ^{ 2 } }{ 8 } &= 228.24\\ \\mathrm{kN} \\cdot \\mathrm{m}  \n",
       "\\end{aligned}\n",
       "\\]"
      ],
      "text/plain": [
       "<IPython.core.display.Latex object>"
      ]
     },
     "metadata": {},
     "output_type": "display_data"
    }
   ],
   "source": [
    "%%render 2 short\n",
    "w_f = 1.25*(DL*T_w)+1.5*(LL*T_w)\n",
    "M_f = w_f*L_s**2/8"
   ]
  },
  {
   "cell_type": "markdown",
   "id": "aba5a355-2c61-46b3-9de6-ba25faffb36c",
   "metadata": {},
   "source": [
    "## **Required Moment of Inertia (I_req)**"
   ]
  },
  {
   "cell_type": "code",
   "execution_count": 37,
   "id": "96affc90-e59e-4ae9-a80c-9f849e16f234",
   "metadata": {},
   "outputs": [
    {
     "data": {
      "text/latex": [
       "\\[\n",
       "\\begin{aligned}\n",
       "w_{flive} &= \\mathrm{LL} \\cdot T_{w}  = 1.55\\ \\mathrm{kPa} \\cdot 7.62\\ \\mathrm{m} &= 11.81\\ \\mathrm{kN/m}  \n",
       "\\\\[10pt]\n",
       "\\Delta_{LL} &= \\frac{ L_{s} }{ 480 }  = \\frac{ 7.93\\ \\mathrm{m} }{ 480 } &= 16.51\\ \\mathrm{mm}  \n",
       "\\end{aligned}\n",
       "\\]"
      ],
      "text/plain": [
       "<IPython.core.display.Latex object>"
      ]
     },
     "metadata": {},
     "output_type": "display_data"
    }
   ],
   "source": [
    "%%render 2\n",
    "w_flive = LL*T_w\n",
    "Delta_LL = L_s/480"
   ]
  },
  {
   "cell_type": "code",
   "execution_count": 38,
   "id": "60e4daf5-7697-466b-bf30-38a57b21f706",
   "metadata": {},
   "outputs": [
    {
     "data": {
      "text/latex": [
       "\\[\n",
       "\\begin{aligned}\n",
       "I_{req} &= \\frac{ 5 \\cdot w_{flive} \\cdot \\left( L_{s} \\right) ^{ 4 } }{ 384 \\cdot E \\cdot \\Delta_{LL} } \\cdot \\left( 10 \\right) ^{ -6 }  = \\frac{ 5 \\cdot 11.81\\ \\mathrm{kN/m} \\cdot \\left( 7.93\\ \\mathrm{m} \\right) ^{ 4 } }{ 384 \\cdot 200.00\\ \\mathrm{GPa} \\cdot 16.51\\ \\mathrm{mm} } \\cdot \\left( 10 \\right) ^{ -6 } &= 183.89\\ \\mathrm{mm}^{4}  \n",
       "\\end{aligned}\n",
       "\\]"
      ],
      "text/plain": [
       "<IPython.core.display.Latex object>"
      ]
     },
     "metadata": {},
     "output_type": "display_data"
    }
   ],
   "source": [
    "%%render 2 short\n",
    "\n",
    "I_req = (5*w_flive*L_s**4)/(384*E*Delta_LL)*10**-6"
   ]
  },
  {
   "cell_type": "code",
   "execution_count": 39,
   "id": "f3191558-38b2-4de7-858c-ad6f47c832fb",
   "metadata": {},
   "outputs": [
    {
     "data": {
      "text/latex": [
       "\\[\n",
       "\\begin{aligned}\n",
       "I_{check} &= \\frac{ I_{req} }{ \\left( \\mathrm{mm} \\right) ^{ 4 } }  = \\frac{ 183.89\\ \\mathrm{mm}^{4} }{ \\left( mm \\right) ^{ 4 } } &= 183.89  \n",
       "\\end{aligned}\n",
       "\\]"
      ],
      "text/plain": [
       "<IPython.core.display.Latex object>"
      ]
     },
     "metadata": {},
     "output_type": "display_data"
    }
   ],
   "source": [
    "%%render 2\n",
    "I_check = I_req/mm**4"
   ]
  },
  {
   "cell_type": "code",
   "execution_count": 40,
   "id": "0f5d994e-c465-482a-9d2c-a2644a2bd64f",
   "metadata": {},
   "outputs": [],
   "source": [
    "## Input file name and other input varible as required"
   ]
  },
  {
   "cell_type": "code",
   "execution_count": 41,
   "id": "7f1b7608-9cd3-4e9e-8b60-c15a3840c192",
   "metadata": {},
   "outputs": [],
   "source": [
    "filename = \"W_CISC.xlsm\"\n",
    "selected_depth = \"W8\"\n",
    "Criteria = \"Mass\""
   ]
  },
  {
   "cell_type": "code",
   "execution_count": 42,
   "id": "42efddd5-d4c8-44fc-9588-00c85f9b8d40",
   "metadata": {},
   "outputs": [],
   "source": [
    "df = CISC_database_reader(filename,I_check)"
   ]
  },
  {
   "cell_type": "code",
   "execution_count": 43,
   "id": "b0e51c76-0937-40c4-9f1e-4f1a32f4fd18",
   "metadata": {},
   "outputs": [],
   "source": [
    "df_eco = Most_economical_section(filename)\n",
    "df_section = List_of_selected_depth(filename,selected_depth)"
   ]
  },
  {
   "cell_type": "markdown",
   "id": "77f598aa-c8f8-4db4-acc6-bf209cd50448",
   "metadata": {},
   "source": [
    "## **Most economincal Section list**"
   ]
  },
  {
   "cell_type": "code",
   "execution_count": 44,
   "id": "9bd34d18-daa2-4f80-b460-da21c4d67157",
   "metadata": {},
   "outputs": [
    {
     "data": {
      "text/html": [
       "<div>\n",
       "<style scoped>\n",
       "    .dataframe tbody tr th:only-of-type {\n",
       "        vertical-align: middle;\n",
       "    }\n",
       "\n",
       "    .dataframe tbody tr th {\n",
       "        vertical-align: top;\n",
       "    }\n",
       "\n",
       "    .dataframe thead th {\n",
       "        text-align: right;\n",
       "    }\n",
       "</style>\n",
       "<table border=\"1\" class=\"dataframe\">\n",
       "  <thead>\n",
       "    <tr style=\"text-align: right;\">\n",
       "      <th></th>\n",
       "      <th>Ds_i</th>\n",
       "      <th>Ds_m</th>\n",
       "      <th>D</th>\n",
       "      <th>B</th>\n",
       "      <th>T</th>\n",
       "      <th>W</th>\n",
       "      <th>BT</th>\n",
       "      <th>HW</th>\n",
       "      <th>A_Th</th>\n",
       "      <th>Ix</th>\n",
       "      <th>Sx</th>\n",
       "      <th>Zx</th>\n",
       "      <th>Iy</th>\n",
       "      <th>Sy</th>\n",
       "      <th>Zy</th>\n",
       "      <th>J</th>\n",
       "      <th>Cw</th>\n",
       "      <th>Mass</th>\n",
       "    </tr>\n",
       "  </thead>\n",
       "  <tbody>\n",
       "    <tr>\n",
       "      <th>169</th>\n",
       "      <td>W18x35</td>\n",
       "      <td>W460x52</td>\n",
       "      <td>450</td>\n",
       "      <td>152</td>\n",
       "      <td>10.8</td>\n",
       "      <td>7.6</td>\n",
       "      <td>7.04</td>\n",
       "      <td>56.37</td>\n",
       "      <td>6620</td>\n",
       "      <td>212.0</td>\n",
       "      <td>942.0</td>\n",
       "      <td>1090</td>\n",
       "      <td>6.34</td>\n",
       "      <td>83.4</td>\n",
       "      <td>131.0</td>\n",
       "      <td>209.0</td>\n",
       "      <td>306.0</td>\n",
       "      <td>52</td>\n",
       "    </tr>\n",
       "    <tr>\n",
       "      <th>178</th>\n",
       "      <td>W16x36</td>\n",
       "      <td>W410x54</td>\n",
       "      <td>403</td>\n",
       "      <td>177</td>\n",
       "      <td>10.9</td>\n",
       "      <td>7.5</td>\n",
       "      <td>8.12</td>\n",
       "      <td>50.83</td>\n",
       "      <td>6800</td>\n",
       "      <td>186.0</td>\n",
       "      <td>923.0</td>\n",
       "      <td>1050</td>\n",
       "      <td>10.10</td>\n",
       "      <td>114.0</td>\n",
       "      <td>177.0</td>\n",
       "      <td>225.0</td>\n",
       "      <td>388.0</td>\n",
       "      <td>54</td>\n",
       "    </tr>\n",
       "    <tr>\n",
       "      <th>177</th>\n",
       "      <td>W16x40</td>\n",
       "      <td>W410x60</td>\n",
       "      <td>407</td>\n",
       "      <td>178</td>\n",
       "      <td>12.8</td>\n",
       "      <td>7.7</td>\n",
       "      <td>6.95</td>\n",
       "      <td>49.53</td>\n",
       "      <td>7580</td>\n",
       "      <td>216.0</td>\n",
       "      <td>1060.0</td>\n",
       "      <td>1190</td>\n",
       "      <td>12.00</td>\n",
       "      <td>135.0</td>\n",
       "      <td>209.0</td>\n",
       "      <td>327.0</td>\n",
       "      <td>468.0</td>\n",
       "      <td>60</td>\n",
       "    </tr>\n",
       "    <tr>\n",
       "      <th>168</th>\n",
       "      <td>W18x40</td>\n",
       "      <td>W460x60</td>\n",
       "      <td>455</td>\n",
       "      <td>153</td>\n",
       "      <td>13.3</td>\n",
       "      <td>8.0</td>\n",
       "      <td>5.75</td>\n",
       "      <td>53.55</td>\n",
       "      <td>7580</td>\n",
       "      <td>255.0</td>\n",
       "      <td>1120.0</td>\n",
       "      <td>1280</td>\n",
       "      <td>7.96</td>\n",
       "      <td>104.0</td>\n",
       "      <td>163.0</td>\n",
       "      <td>334.0</td>\n",
       "      <td>388.0</td>\n",
       "      <td>60</td>\n",
       "    </tr>\n",
       "    <tr>\n",
       "      <th>146</th>\n",
       "      <td>W21x44</td>\n",
       "      <td>W530x66</td>\n",
       "      <td>525</td>\n",
       "      <td>165</td>\n",
       "      <td>11.4</td>\n",
       "      <td>8.9</td>\n",
       "      <td>7.24</td>\n",
       "      <td>56.43</td>\n",
       "      <td>8370</td>\n",
       "      <td>351.0</td>\n",
       "      <td>1340.0</td>\n",
       "      <td>1560</td>\n",
       "      <td>8.57</td>\n",
       "      <td>104.0</td>\n",
       "      <td>166.0</td>\n",
       "      <td>320.0</td>\n",
       "      <td>565.0</td>\n",
       "      <td>66</td>\n",
       "    </tr>\n",
       "  </tbody>\n",
       "</table>\n",
       "</div>"
      ],
      "text/plain": [
       "       Ds_i     Ds_m    D    B     T    W    BT     HW  A_Th     Ix      Sx  \\\n",
       "169  W18x35  W460x52  450  152  10.8  7.6  7.04  56.37  6620  212.0   942.0   \n",
       "178  W16x36  W410x54  403  177  10.9  7.5  8.12  50.83  6800  186.0   923.0   \n",
       "177  W16x40  W410x60  407  178  12.8  7.7  6.95  49.53  7580  216.0  1060.0   \n",
       "168  W18x40  W460x60  455  153  13.3  8.0  5.75  53.55  7580  255.0  1120.0   \n",
       "146  W21x44  W530x66  525  165  11.4  8.9  7.24  56.43  8370  351.0  1340.0   \n",
       "\n",
       "       Zx     Iy     Sy     Zy      J     Cw  Mass  \n",
       "169  1090   6.34   83.4  131.0  209.0  306.0    52  \n",
       "178  1050  10.10  114.0  177.0  225.0  388.0    54  \n",
       "177  1190  12.00  135.0  209.0  327.0  468.0    60  \n",
       "168  1280   7.96  104.0  163.0  334.0  388.0    60  \n",
       "146  1560   8.57  104.0  166.0  320.0  565.0    66  "
      ]
     },
     "execution_count": 44,
     "metadata": {},
     "output_type": "execute_result"
    }
   ],
   "source": [
    "df_eco.head(5)"
   ]
  },
  {
   "cell_type": "markdown",
   "id": "c274385c-90d7-4181-9b33-b637e0df0eba",
   "metadata": {},
   "source": [
    "## **Section list based on depth (D)**"
   ]
  },
  {
   "cell_type": "code",
   "execution_count": 45,
   "id": "7a7db7fe-213b-4f79-99f9-6c57ad560dd8",
   "metadata": {
    "tags": []
   },
   "outputs": [
    {
     "data": {
      "text/html": [
       "<div>\n",
       "<style scoped>\n",
       "    .dataframe tbody tr th:only-of-type {\n",
       "        vertical-align: middle;\n",
       "    }\n",
       "\n",
       "    .dataframe tbody tr th {\n",
       "        vertical-align: top;\n",
       "    }\n",
       "\n",
       "    .dataframe thead th {\n",
       "        text-align: right;\n",
       "    }\n",
       "</style>\n",
       "<table border=\"1\" class=\"dataframe\">\n",
       "  <thead>\n",
       "    <tr style=\"text-align: right;\">\n",
       "      <th></th>\n",
       "      <th>Ds_i</th>\n",
       "      <th>Ds_m</th>\n",
       "      <th>D</th>\n",
       "      <th>B</th>\n",
       "      <th>T</th>\n",
       "      <th>W</th>\n",
       "      <th>BT</th>\n",
       "      <th>HW</th>\n",
       "      <th>A_Th</th>\n",
       "      <th>Ix</th>\n",
       "      <th>Sx</th>\n",
       "      <th>Zx</th>\n",
       "      <th>Iy</th>\n",
       "      <th>Sy</th>\n",
       "      <th>Zy</th>\n",
       "      <th>J</th>\n",
       "      <th>Cw</th>\n",
       "      <th>Mass</th>\n",
       "    </tr>\n",
       "  </thead>\n",
       "  <tbody>\n",
       "  </tbody>\n",
       "</table>\n",
       "</div>"
      ],
      "text/plain": [
       "Empty DataFrame\n",
       "Columns: [Ds_i, Ds_m, D, B, T, W, BT, HW, A_Th, Ix, Sx, Zx, Iy, Sy, Zy, J, Cw, Mass]\n",
       "Index: []"
      ]
     },
     "execution_count": 45,
     "metadata": {},
     "output_type": "execute_result"
    }
   ],
   "source": [
    "df_section.head(5)"
   ]
  },
  {
   "cell_type": "markdown",
   "id": "7ae42235-69a9-404b-a07c-4327f716f6d6",
   "metadata": {},
   "source": [
    "## **Selected section**"
   ]
  },
  {
   "cell_type": "code",
   "execution_count": 46,
   "id": "6c88b1e1-078d-4856-8f18-8818bf0df83b",
   "metadata": {},
   "outputs": [
    {
     "name": "stdin",
     "output_type": "stream",
     "text": [
      "Enter section name from sections column: W18x35\n"
     ]
    }
   ],
   "source": [
    "while True:\n",
    "    try:\n",
    "        Section = input('Enter section name from sections column:')\n",
    "    except valueError:\n",
    "        print('Data Input Error! Try Again')\n",
    "    else:\n",
    "        break"
   ]
  },
  {
   "cell_type": "code",
   "execution_count": 47,
   "id": "f75f025b-e259-4274-8835-c210d7ebe206",
   "metadata": {},
   "outputs": [],
   "source": [
    "mask = df.loc[:,\"Ds_i\"] == Section"
   ]
  },
  {
   "cell_type": "code",
   "execution_count": 48,
   "id": "de4fcc56-0f68-4cf5-b711-e582f8bd6ace",
   "metadata": {},
   "outputs": [
    {
     "data": {
      "text/html": [
       "<div>\n",
       "<style scoped>\n",
       "    .dataframe tbody tr th:only-of-type {\n",
       "        vertical-align: middle;\n",
       "    }\n",
       "\n",
       "    .dataframe tbody tr th {\n",
       "        vertical-align: top;\n",
       "    }\n",
       "\n",
       "    .dataframe thead th {\n",
       "        text-align: right;\n",
       "    }\n",
       "</style>\n",
       "<table border=\"1\" class=\"dataframe\">\n",
       "  <thead>\n",
       "    <tr style=\"text-align: right;\">\n",
       "      <th></th>\n",
       "      <th>Ds_i</th>\n",
       "      <th>Ds_m</th>\n",
       "      <th>D</th>\n",
       "      <th>B</th>\n",
       "      <th>T</th>\n",
       "      <th>W</th>\n",
       "      <th>BT</th>\n",
       "      <th>HW</th>\n",
       "      <th>A_Th</th>\n",
       "      <th>Ix</th>\n",
       "      <th>Sx</th>\n",
       "      <th>Zx</th>\n",
       "      <th>Iy</th>\n",
       "      <th>Sy</th>\n",
       "      <th>Zy</th>\n",
       "      <th>J</th>\n",
       "      <th>Cw</th>\n",
       "    </tr>\n",
       "  </thead>\n",
       "  <tbody>\n",
       "    <tr>\n",
       "      <th>169</th>\n",
       "      <td>W18x35</td>\n",
       "      <td>W460x52</td>\n",
       "      <td>450</td>\n",
       "      <td>152</td>\n",
       "      <td>10.8</td>\n",
       "      <td>7.6</td>\n",
       "      <td>7.04</td>\n",
       "      <td>56.37</td>\n",
       "      <td>6620</td>\n",
       "      <td>212.0</td>\n",
       "      <td>942.0</td>\n",
       "      <td>1090</td>\n",
       "      <td>6.34</td>\n",
       "      <td>83.4</td>\n",
       "      <td>131.0</td>\n",
       "      <td>209.0</td>\n",
       "      <td>306.0</td>\n",
       "    </tr>\n",
       "  </tbody>\n",
       "</table>\n",
       "</div>"
      ],
      "text/plain": [
       "       Ds_i     Ds_m    D    B     T    W    BT     HW  A_Th     Ix     Sx  \\\n",
       "169  W18x35  W460x52  450  152  10.8  7.6  7.04  56.37  6620  212.0  942.0   \n",
       "\n",
       "       Zx    Iy    Sy     Zy      J     Cw  \n",
       "169  1090  6.34  83.4  131.0  209.0  306.0  "
      ]
     },
     "execution_count": 48,
     "metadata": {},
     "output_type": "execute_result"
    }
   ],
   "source": [
    "df_section = df.loc[mask,[\"Ds_i\",\"Ds_m\",\"D\",\"B\",\"T\",\"W\",\"BT\",\"HW\",\n",
    "                        \"A_Th\",\"Ix\",\"Sx\",\"Zx\",\"Iy\",\n",
    "                       \"Sy\",\"Zy\",\"J\",\"Cw\"]]\n",
    "df_section"
   ]
  },
  {
   "cell_type": "code",
   "execution_count": 49,
   "id": "87572c14-1d07-415d-a286-1466ffbd1bb3",
   "metadata": {},
   "outputs": [],
   "source": [
    "Zx = df_section.loc[:,'Zx'].unique()\n",
    "Zx = Zx[0]\n",
    "Sx = df_section.loc[:,'Sx'].unique()\n",
    "Sx = Sx[0]\n",
    "Ix = df_section.loc[:,'Ix'].unique()\n",
    "Ix = Ix[0]"
   ]
  },
  {
   "cell_type": "markdown",
   "id": "830991ad-6a40-4d95-806d-b860c7c1bb3b",
   "metadata": {},
   "source": [
    "## **Check section class for beam flange**"
   ]
  },
  {
   "cell_type": "code",
   "execution_count": 50,
   "id": "bcd4eff3-f4ff-4f1c-a8bb-d716b8dd0395",
   "metadata": {},
   "outputs": [],
   "source": [
    "bf = df_section.loc[:,'B'].unique()\n",
    "bf = bf[0]/2\n",
    "tf = df_section.loc[:,'T'].unique()\n",
    "tf = tf[0]\n",
    "F_y = 345*MPa"
   ]
  },
  {
   "cell_type": "code",
   "execution_count": 51,
   "id": "eb4b8125-e16e-4f6c-ac98-f22a51ca9f79",
   "metadata": {},
   "outputs": [
    {
     "data": {
      "text/latex": [
       "\\[\n",
       "\\begin{aligned}\n",
       "x &= \\frac{ \\mathrm{bf} }{ \\mathrm{tf} }  = \\frac{ 76.000 }{ 10.800 } &= 7.037  \n",
       "\\\\[10pt]\n",
       "\\mathrm{Class}_{1} &= \\left( \\frac{ 145 }{ \\sqrt { F_{y} } } \\right)  = \\left( \\frac{ 145 }{ \\sqrt { 345.000\\ \\mathrm{MPa} } } \\right) &= 7.807  \n",
       "\\\\[10pt]\n",
       "\\mathrm{Class}_{2} &= \\left( \\frac{ 170 }{ \\sqrt { F_{y} } } \\right)  = \\left( \\frac{ 170 }{ \\sqrt { 345.000\\ \\mathrm{MPa} } } \\right) &= 9.152  \n",
       "\\\\[10pt]\n",
       "\\mathrm{Class}_{3} &= \\left( \\frac{ 200 }{ \\sqrt { F_{y} } } \\right)  = \\left( \\frac{ 200 }{ \\sqrt { 345.000\\ \\mathrm{MPa} } } \\right) &= 10.768  \n",
       "\\end{aligned}\n",
       "\\]"
      ],
      "text/plain": [
       "<IPython.core.display.Latex object>"
      ]
     },
     "metadata": {},
     "output_type": "display_data"
    }
   ],
   "source": [
    "%%render\n",
    "x = bf/tf\n",
    "Class_1 = (145/sqrt(F_y))\n",
    "Class_2 = (170/sqrt(F_y))\n",
    "Class_3 =(200/sqrt(F_y))"
   ]
  },
  {
   "cell_type": "code",
   "execution_count": 52,
   "id": "75bee5a6-1d71-47a9-9316-5e8c472b2eb1",
   "metadata": {},
   "outputs": [
    {
     "name": "stdout",
     "output_type": "stream",
     "text": [
      "This is a Class 1 section\n"
     ]
    }
   ],
   "source": [
    "if (bf/tf)<=(145/sqrt(F_y)):\n",
    "    Section_class = 1    \n",
    "    print('This is a Class 1 section')\n",
    "elif ((bf/tf)<=(170/sqrt(F_y))) and ((bf/tf)>(145/sqrt(F_y))):\n",
    "    Section_class = 2\n",
    "    print('This is a Class 2 section')\n",
    "elif ((bf/tf)<=(200/sqrt(F_y))) and ((bf/tf)>(170/sqrt(F_y))):\n",
    "    Section_class = 3\n",
    "    print('This is a Class 3 section')"
   ]
  },
  {
   "cell_type": "markdown",
   "id": "fe4cd560-fd7f-46f6-bb48-5ede2a48f441",
   "metadata": {},
   "source": [
    "## **Check section class for beam web**"
   ]
  },
  {
   "cell_type": "code",
   "execution_count": 53,
   "id": "aa191537-944c-4efb-a6de-7c1d47b344da",
   "metadata": {
    "tags": []
   },
   "outputs": [],
   "source": [
    "d = df_section.loc[:,'D'].unique()\n",
    "d = d[0]\n",
    "tw = df_section.loc[:,'W'].unique()\n",
    "tw = tw[0]"
   ]
  },
  {
   "cell_type": "code",
   "execution_count": 54,
   "id": "e23c4392-8fa4-4b62-b3b7-31048be13097",
   "metadata": {},
   "outputs": [
    {
     "data": {
      "text/latex": [
       "\\[\n",
       "\\begin{aligned}\n",
       "y &= \\frac{ d }{ \\mathrm{tw} }  = \\frac{ 450.000 }{ 7.600 } &= 59.211  \n",
       "\\\\[10pt]\n",
       "\\mathrm{Class}_{1} &= \\left( \\frac{ 1100 }{ \\sqrt { F_{y} } } \\right)  = \\left( \\frac{ 1100 }{ \\sqrt { 345.000\\ \\mathrm{MPa} } } \\right) &= 59.222  \n",
       "\\\\[10pt]\n",
       "\\mathrm{Class}_{2} &= \\left( \\frac{ 1700 }{ \\sqrt { F_{y} } } \\right)  = \\left( \\frac{ 1700 }{ \\sqrt { 345.000\\ \\mathrm{MPa} } } \\right) &= 91.525  \n",
       "\\\\[10pt]\n",
       "\\mathrm{Class}_{3} &= \\left( \\frac{ 1900 }{ \\sqrt { F_{y} } } \\right)  = \\left( \\frac{ 1900 }{ \\sqrt { 345.000\\ \\mathrm{MPa} } } \\right) &= 102.293  \n",
       "\\end{aligned}\n",
       "\\]"
      ],
      "text/plain": [
       "<IPython.core.display.Latex object>"
      ]
     },
     "metadata": {},
     "output_type": "display_data"
    }
   ],
   "source": [
    "%%render\n",
    "y = d/tw\n",
    "Class_1 = (1100/sqrt(F_y))\n",
    "Class_2 = (1700/sqrt(F_y))\n",
    "Class_3 =(1900/sqrt(F_y))"
   ]
  },
  {
   "cell_type": "code",
   "execution_count": 55,
   "id": "73eec0a3-0ee7-4466-8aaf-b3d0b94d7d8d",
   "metadata": {},
   "outputs": [
    {
     "name": "stdout",
     "output_type": "stream",
     "text": [
      "This is a Class 1 section\n"
     ]
    }
   ],
   "source": [
    "if (d/tw)<=(1100/sqrt(F_y)):\n",
    "    print('This is a Class 1 section')\n",
    "elif ((d/tw)<=(1700/sqrt(F_y))) and ((d/tw)>(1900/sqrt(F_y))):\n",
    "    print('This is a Class 2 section')\n",
    "elif ((d/tw)<=(1900/sqrt(F_y))) and ((d/tw)>(1700/sqrt(F_y))):\n",
    "    print('This is a Class 3 section')"
   ]
  },
  {
   "cell_type": "markdown",
   "id": "f90a2654-503e-4f79-9b3b-875345c3c4dd",
   "metadata": {},
   "source": [
    "## **Moment resistance of selected section**"
   ]
  },
  {
   "cell_type": "code",
   "execution_count": 56,
   "id": "b3240349-5760-45c6-9eb5-8fd5bf86ab70",
   "metadata": {},
   "outputs": [
    {
     "data": {
      "text/latex": [
       "\\[\n",
       "\\begin{aligned}\n",
       "\\phi_{s} &= 0.900 \\; \n",
       "\\\\[10pt]\n",
       "F_{y} &= 345 \\cdot \\mathrm{MPa}  = 345 \\cdot MPa &= 345.000\\ \\mathrm{MPa}  \n",
       "\\\\[10pt]\n",
       "Z_{x} &= \\mathrm{Zx} \\cdot \\left( 10 \\right) ^{ 3 } \\cdot \\left( \\mathrm{mm} \\right) ^{ 3 }  = 1090.000 \\cdot \\left( 10 \\right) ^{ 3 } \\cdot \\left( mm \\right) ^{ 3 } &= 1090000.000\\ \\mathrm{mm}^{3}  \n",
       "\\\\[10pt]\n",
       "S_{x} &= \\mathrm{Sx} \\cdot \\left( 10 \\right) ^{ 3 } \\cdot \\left( \\mathrm{mm} \\right) ^{ 3 }  = 942.000 \\cdot \\left( 10 \\right) ^{ 3 } \\cdot \\left( mm \\right) ^{ 3 } &= 942000.000\\ \\mathrm{mm}^{3}  \n",
       "\\end{aligned}\n",
       "\\]"
      ],
      "text/plain": [
       "<IPython.core.display.Latex object>"
      ]
     },
     "metadata": {},
     "output_type": "display_data"
    }
   ],
   "source": [
    "%%render\n",
    "phi_s = 0.9\n",
    "F_y = 345*MPa\n",
    "Z_x= Zx*10**3*mm**3\n",
    "S_x= Sx*10**3*mm**3"
   ]
  },
  {
   "cell_type": "code",
   "execution_count": 57,
   "id": "7b47abdf-2555-45b2-9c49-9137cad5b9ad",
   "metadata": {},
   "outputs": [],
   "source": [
    "M_r_zx = phi_s*F_y*Z_x\n",
    "M_r_sx = phi_s*F_y*S_x"
   ]
  },
  {
   "cell_type": "code",
   "execution_count": 58,
   "id": "afa194e4-7886-412c-9bda-92774dd7aa91",
   "metadata": {},
   "outputs": [],
   "source": [
    "if Section_class == 1 or 2:\n",
    "    M_r = M_r_zx\n",
    "else:\n",
    "    M_r = M_r_sx"
   ]
  },
  {
   "cell_type": "code",
   "execution_count": 59,
   "id": "020c6e35-7482-42e5-bcb9-1cb8fdb3ff38",
   "metadata": {},
   "outputs": [
    {
     "data": {
      "text/latex": [
       "\\[\n",
       "\\begin{aligned}\n",
       "&\\text{Since, } \\mathrm{Section}_{class} = 1 \\rightarrow \\left( 1 = 1 \\right) :   \\end{aligned}\n",
       "\\]\n",
       "\\[\n",
       "\\begin{aligned}\n",
       "M_{r} &= \\phi_{s} \\cdot F_{y} \\cdot Z_{x}  = 0.900 \\cdot 345.000\\ \\mathrm{MPa} \\cdot 1090000.000\\ \\mathrm{mm}^{3} &= 338.445\\ \\mathrm{kN} \\cdot \\mathrm{m}  \n",
       "\\end{aligned}\n",
       "\\]"
      ],
      "text/plain": [
       "<IPython.core.display.Latex object>"
      ]
     },
     "metadata": {},
     "output_type": "display_data"
    }
   ],
   "source": [
    "%%render\n",
    "if Section_class == 1 or 2: M_r = phi_s*F_y*Z_x\n",
    "else: M_r = phi_s*F_y*S_x"
   ]
  },
  {
   "cell_type": "code",
   "execution_count": null,
   "id": "c33bbadf-f0fa-4c1c-8c97-2482751b9df0",
   "metadata": {},
   "outputs": [],
   "source": []
  },
  {
   "cell_type": "code",
   "execution_count": 60,
   "id": "e7c04f11-d74c-4d3c-becf-5f0fd9476982",
   "metadata": {},
   "outputs": [
    {
     "name": "stdout",
     "output_type": "stream",
     "text": [
      "----------------------------------------------------------------------------------------------------\n",
      "Result Summary\n",
      "----------------------------------------------------------------------------------------------------\n",
      "Dead Load, DL =  1.190 kPa\n",
      "Live/Snow Load, LL =  1.550 kPa\n",
      "Tributary width, Tw =  7.622 m\n",
      "Span Length, Ls =  7.927 m\n",
      "This section is adequate 338.4 kN·m > 228.2 kN·m\n",
      "Moment of Inertia 212.0 mm^4 > 183.89 mm^4\n"
     ]
    }
   ],
   "source": [
    "print('-'*100)\n",
    "print('Result Summary')\n",
    "print('-'*100)\n",
    "print('Dead Load, DL = ',DL)\n",
    "print('Live/Snow Load, LL = ',LL)\n",
    "print('Tributary width, Tw = ',T_w)\n",
    "print('Span Length, Ls = ',L_s)\n",
    "\n",
    "## Check if the section satisfies both moment and inertia criteria\n",
    "\n",
    "if (M_r>M_f) and (Ix>I_check):\n",
    "    print('This section is adequate',round(M_r,1),'>',round(M_f,1))\n",
    "    print('Moment of Inertia', Ix,'mm^4 >',round(I_check,2),'mm^4')\n",
    "elif (M_r>M_f) and (Ix<I_check):\n",
    "    print('Moment resistance',round(M_r,1),'>',round(M_f,1))\n",
    "    print('Moment of Inertia', Ix,'mm^4 <',round(I_check,2),'mm^4') \n",
    "    print('Please select another section!') \n",
    "elif (M_r<M_f) and (Ix>I_check):\n",
    "    print('Moment resistance',round(M_r,1),'<',round(M_f,1))\n",
    "    print('Moment of Inertia', Ix,'mm^4 >',round(I_check,2),'mm^4') \n",
    "    print('Please select another section!')  \n",
    "elif (M_r<M_f) and (Ix<I_check):\n",
    "    print('Moment resistance',round(M_r,1),'<',round(M_f,1))\n",
    "    print('Moment of Inertia', Ix,'mm^4 <',round(I_check,2),'mm^4') \n",
    "    print('Please select another section!') "
   ]
  },
  {
   "cell_type": "code",
   "execution_count": null,
   "id": "29d5426c-25f8-4bc7-8923-d6e8ea5b64f3",
   "metadata": {},
   "outputs": [],
   "source": []
  }
 ],
 "metadata": {
  "kernelspec": {
   "display_name": "Python 3 (ipykernel)",
   "language": "python",
   "name": "python3"
  },
  "language_info": {
   "codemirror_mode": {
    "name": "ipython",
    "version": 3
   },
   "file_extension": ".py",
   "mimetype": "text/x-python",
   "name": "python",
   "nbconvert_exporter": "python",
   "pygments_lexer": "ipython3",
   "version": "3.9.12"
  }
 },
 "nbformat": 4,
 "nbformat_minor": 5
}
